{
 "cells": [
  {
   "cell_type": "code",
   "execution_count": 1,
   "metadata": {},
   "outputs": [],
   "source": [
    "from src.parsers import NewsgroupsParser, ReutersParser\n",
    "from src.engines.doc2vec import Doc2VecModel\n",
    "\n",
    "NEWSGROUPS = NewsgroupsParser()\n",
    "REUTERS = ReutersParser()"
   ]
  },
  {
   "cell_type": "code",
   "execution_count": 2,
   "metadata": {},
   "outputs": [],
   "source": [
    "import numpy as np\n",
    "from sklearn.multiclass import OneVsRestClassifier\n",
    "from sklearn.svm import SVC\n",
    "from sklearn.model_selection import train_test_split\n",
    "from sklearn.metrics import classification_report\n",
    "\n",
    "def train(model: Doc2VecModel):\n",
    "    # get the unique labels\n",
    "    labels = []\n",
    "    for entry in model.dataset.entries:\n",
    "        for label in entry.labels:\n",
    "            if label not in labels:\n",
    "                labels.append(label)\n",
    "    print(*enumerate(labels))\n",
    "\n",
    "    # get train and test sets\n",
    "    X = np.array([vector for vector in map(\n",
    "        lambda e: model.model.dv[e.id],\n",
    "        model.dataset.entries)])\n",
    "    y = np.array([\n",
    "        y_labs for y_labs in map(\n",
    "        lambda e: np.array(np.array(\n",
    "            [int(label in e.labels) for label in labels])),\n",
    "        model.dataset.entries)]\n",
    "    )\n",
    "    # print(X)\n",
    "    print(y, y.shape)\n",
    "    X_train, X_test, y_train, y_test = train_test_split(X, y, test_size=0.2)\n",
    "\n",
    "    # train classifier\n",
    "    clf = OneVsRestClassifier(SVC(kernel=\"poly\", decision_function_shape=\"ovo\"))\n",
    "    clf.fit(X_train, y_train)\n",
    "\n",
    "    # print report of training\n",
    "    y_pred = clf.predict(X_test)\n",
    "    report = classification_report(y_test, y_pred, zero_division=0)\n",
    "\n",
    "    return y_pred, y_test, report\n"
   ]
  },
  {
   "cell_type": "code",
   "execution_count": 3,
   "metadata": {},
   "outputs": [],
   "source": [
    "news_model = Doc2VecModel(NEWSGROUPS, use_predictor=True)\n",
    "# train(news_model)"
   ]
  },
  {
   "cell_type": "code",
   "execution_count": 4,
   "metadata": {},
   "outputs": [],
   "source": [
    "reuters_model = Doc2VecModel(REUTERS, use_predictor=True)\n",
    "# y_pred, y_test, report = train(reuters_model)\n",
    "# print(report)"
   ]
  },
  {
   "cell_type": "code",
   "execution_count": 5,
   "metadata": {},
   "outputs": [],
   "source": [
    "from gensim.utils import simple_preprocess\n",
    "\n"
   ]
  },
  {
   "cell_type": "code",
   "execution_count": 34,
   "metadata": {},
   "outputs": [
    {
     "name": "stdout",
     "output_type": "stream",
     "text": [
      "[0 0 1 0 0 0 0 0 0 0 0 0 0 0 0 0 1 0 0 0 0 0 0 0 0 1 0 0 0 0 0 0 0 0 0 0 0\n",
      " 0 0 0 0 1 0 0 0 0 0 0 0 0 0 0 0 0 0 0 0 0 0 0 0 0 0 0 0 0 0 0 0 0 0 0 0 0\n",
      " 0 0 0 0 0 0 0 0 0 0 0 0 0 0 0 0]\n",
      "['crude', 'acq', 'earn', 'pet-chem']\n",
      "['acq', 'crude', 'earn', 'pet-chem']\n"
     ]
    },
    {
     "data": {
      "text/plain": [
       "'ENERGY/U.S. PETROCHEMICAL INDUSTRY\\n  Cheap oil feedstocks, the weakened U.S.\\n  dollar and a plant utilization rate approaching 90 pct will\\n  propel the streamlined U.S. petrochemical industry to record\\n  profits this year, with growth expected through at least 1990,\\n  major company executives predicted.\\n      This bullish outlook for chemical manufacturing and an\\n  industrywide move to shed unrelated businesses has prompted GAF\\n  Corp &lt;GAF>, privately-held Cain Chemical Inc, and other firms\\n  to aggressively seek acquisitions of petrochemical plants.\\n      Oil companies such as Ashland Oil Inc &lt;ASH>, the\\n  Kentucky-based oil refiner and marketer, are also shopping for\\n  money-making petrochemical businesses to buy.\\n      \"I see us poised at the threshold of a golden period,\" said\\n  Paul Oreffice, chairman of giant Dow Chemical Co &lt;DOW>, adding,\\n  \"There\\'s no major plant capacity being added around the world\\n  now. The whole game is bringing out new products and improving\\n  the old ones.\"\\n      Analysts say the chemical industry\\'s biggest customers,\\n  automobile manufacturers and home builders that use a lot of\\n  paints and plastics, are expected to buy quantities this year.\\n      U.S. petrochemical plants are currently operating at about\\n  90 pct capacity, reflecting tighter supply that could hike\\n  product prices by 30 to 40 pct this year, said John Dosher,\\n  managing director of Pace Consultants Inc of Houston. Demand\\n  for some products such as styrene could push profit margins up\\n  by as much as 300 pct, he said.\\n      Oreffice, speaking at a meeting of chemical engineers in\\n  Houston, said Dow would easily top the 741 mln dlrs it earned\\n  last year and predicted it would have the best year in its\\n  history.\\n      In 1985, when oil prices were still above 25 dlrs a barrel\\n  and chemical exports were adversely affected by the strong U.S.\\n  dollar, Dow had profits of 58 mln dlrs. \"I believe the entire\\n  chemical industry is headed for a record year or close to it,\"\\n  Oreffice said.\\n      GAF chairman Samuel Heyman estimated that the U.S. chemical\\n  industry would report a 20 pct gain in profits during 1987.\\n  Last year, the domestic industry earned a total of 13 billion\\n  dlrs, a 54 pct leap from 1985.\\n      The turn in the fortunes of the once-sickly chemical\\n  industry has been brought about by a combination of luck and\\n  planning, said Pace\\'s John Dosher.\\n      Dosher said last year\\'s fall in oil prices made feedstocks\\n  dramatically cheaper and at the same time the American dollar\\n  was weakening against foreign currencies. That helped boost\\n  U.S. chemical exports.\\n      Also helping to bring supply and demand into balance has\\n  been the gradual market absorption of the extra chemical\\n  manufacturing capacity created by Middle Eastern oil producers\\n  in the early 1980s.\\n      Finally, virtually all major U.S. chemical manufacturers\\n  have embarked on an extensive corporate restructuring program\\n  to mothball inefficient plants, trim the payroll and eliminate\\n  unrelated businesses. The restructuring touched off a flurry of\\n  friendly and hostile takeover attempts.\\n      GAF, which made an unsuccessful attempt in 1985 to acquire\\n  Union Carbide Corp &lt;UK>, recently offered three billion dlrs\\n  for Borg Warner Corp &lt;BOR>, a Chicago manufacturer of plastics\\n  and chemicals. Another industry powerhouse, W.R. Grace &lt;GRA> \\n  has divested its retailing, restaurant and fertilizer\\n  businesses to raise cash for chemical acquisitions.\\n      But some experts worry that the chemical industry may be\\n  headed for trouble if companies continue turning their back on\\n  the manufacturing of staple petrochemical commodities, such as\\n  ethylene, in favor of more profitable specialty chemicals that\\n  are custom-designed for a small group of buyers.\\n      \"Companies like DuPont &lt;DD> and Monsanto Co &lt;MTC> spent the\\n  past two or three years trying to get out of the commodity\\n  chemical business in reaction to how badly the market had\\n  deteriorated,\" Dosher said. \"But I think they will eventually\\n  kill the margins on the profitable chemicals in the niche\\n  market.\" Some top chemical executives share the concern.\\n      \"The challenge for our industry is to keep from getting\\n  carried away and repeating past mistakes,\" GAF\\'s Heyman\\n  cautioned. \"The shift from commodity chemicals may be\\n  ill-advised. Specialty businesses do not stay special long.\"\\n      Houston-based Cain Chemical, created this month by the\\n  Sterling investment banking group, believes it can generate 700\\n  mln dlrs in annual sales by bucking the industry trend.\\n      Chairman Gordon Cain, who previously led a leveraged buyout\\n  of Dupont\\'s Conoco Inc\\'s chemical business, has spent 1.1\\n  billion dlrs since January to buy seven petrochemical plants\\n  along the Texas Gulf Coast.\\n      The plants produce only basic commodity petrochemicals that\\n  are the building blocks of specialty products.\\n      \"This kind of commodity chemical business will never be a\\n  glamorous, high-margin business,\" Cain said, adding that demand\\n  is expected to grow by about three pct annually.\\n      Garo Armen, an analyst with Dean Witter Reynolds, said\\n  chemical makers have also benefitted by increasing demand for\\n  plastics as prices become more competitive with aluminum, wood\\n  and steel products. Armen estimated the upturn in the chemical\\n  business could last as long as four or five years, provided the\\n  U.S. economy continues its modest rate of growth.\\n  \\n\\n'"
      ]
     },
     "execution_count": 34,
     "metadata": {},
     "output_type": "execute_result"
    }
   ],
   "source": [
    "INDEX = 123\n",
    "example = REUTERS.entries[INDEX].main_content\n",
    "labels = REUTERS.entries[INDEX].labels\n",
    "vector = reuters_model.model.infer_vector(simple_preprocess(example))\n",
    "\n",
    "print(reuters_model.predict_labels(''''''))\n",
    "print(labels)\n",
    "example\n"
   ]
  }
 ],
 "metadata": {
  "interpreter": {
   "hash": "e7370f93d1d0cde622a1f8e1c04877d8463912d04d973331ad4851f04de6915a"
  },
  "kernelspec": {
   "display_name": "Python 3.10.4 64-bit",
   "language": "python",
   "name": "python3"
  },
  "language_info": {
   "codemirror_mode": {
    "name": "ipython",
    "version": 3
   },
   "file_extension": ".py",
   "mimetype": "text/x-python",
   "name": "python",
   "nbconvert_exporter": "python",
   "pygments_lexer": "ipython3",
   "version": "3.10.4"
  },
  "orig_nbformat": 4
 },
 "nbformat": 4,
 "nbformat_minor": 2
}

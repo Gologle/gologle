{
 "cells": [
  {
   "cell_type": "code",
   "execution_count": 6,
   "metadata": {},
   "outputs": [],
   "source": [
    "from random import shuffle\n",
    "\n",
    "from tokenize import group\n",
    "from typing import Iterator\n",
    "from pathlib import Path\n",
    "import numpy as np\n",
    "import matplotlib.pyplot as plt\n",
    "from gensim.models.doc2vec import Doc2Vec\n",
    "\n",
    "from src.classifiers.base import DatasetEntry, DatasetParser\n",
    "\n",
    "from sklearn.feature_extraction.text import CountVectorizer\n",
    "from sklearn.feature_selection import SelectFpr, chi2\n",
    "from sklearn.model_selection import train_test_split\n",
    "from sklearn.metrics import confusion_matrix\n",
    "\n",
    "import pickle\n",
    "\n",
    "# Classifiers\n",
    "from sklearn.naive_bayes import MultinomialNB\n",
    "from sklearn.linear_model import LogisticRegression\n",
    "from sklearn.neighbors import KNeighborsClassifier\n",
    "from sklearn.tree import DecisionTreeClassifier\n",
    "from sklearn.svm import SVC\n",
    "from sklearn.ensemble import RandomForestClassifier\n",
    "from gensim.utils import simple_preprocess\n",
    "\n",
    "# Metrics\n",
    "from sklearn.metrics import classification_report"
   ]
  },
  {
   "cell_type": "code",
   "execution_count": 7,
   "metadata": {},
   "outputs": [
    {
     "name": "stdout",
     "output_type": "stream",
     "text": [
      "[ 0.06866241 -0.26297903  0.07269929  0.24940334 -0.12856945 -0.905505\n",
      "  0.28001404  0.46869963 -0.49396008  0.49471778  0.16190854 -0.300937\n",
      " -0.19951914  0.45683843  0.08871276 -0.3749264   0.8437531  -0.43066245\n",
      " -0.71053845 -0.07456572  0.29725227  0.42502564  0.17985488  0.57995033\n",
      " -0.4592125  -0.5038251   0.37507877  0.29996717 -0.12883967 -0.493351\n",
      " -0.09473423 -0.03056421 -0.41688246 -0.18476976 -0.2343755  -0.11148989\n",
      "  0.2709551  -0.37814376  0.6519001  -0.40003008 -1.0897918   0.44535235\n",
      " -0.10015228 -0.32676652  0.5154579   0.32467648  0.05818143  0.3651494\n",
      "  0.17330344 -0.01803419 -0.0208741   0.3086182  -0.06492205 -0.25627473\n",
      "  0.5756725  -0.5938626   0.26274246 -0.6802011  -0.15170975  0.89259833\n",
      " -0.16566792 -0.27607304 -0.13363057  0.19446003 -0.00382854 -0.09263676\n",
      "  0.4336044  -0.31560203 -0.26633114 -0.18227287 -0.00822984 -0.47730404\n",
      "  0.6964229  -0.02441906 -0.47603273  0.7067244   0.60662615  0.36952233\n",
      "  0.16568188 -0.20176555  0.06361324 -0.1877929   0.18060617 -0.05758069\n",
      "  0.22782502  0.08535144  0.6283351  -0.43895113 -0.19135728 -0.11959408\n",
      " -0.41277477 -0.5072579  -0.18722759  0.07812887  0.4529964   0.30700803\n",
      "  0.69507015  0.22462444  0.31805125 -0.350318  ]\n",
      "(100,)\n"
     ]
    }
   ],
   "source": [
    "# Load doc2vec trained model on newsgroups\n",
    "\n",
    "doc2vec = Doc2Vec.load('./20newsgroups-18828(Doc2Vec Model).model')\n",
    "\n",
    "str_to_doc2vec_embedding = lambda sentence: doc2vec.infer_vector(simple_preprocess(sentence))\n",
    "id_to_doc2vec_embedding = lambda id: doc2vec.dv\n",
    "\n",
    "# Example\n",
    "embedding = str_to_doc2vec_embedding('Hello world')\n",
    "\n",
    "print(embedding)\n",
    "print(embedding.shape)"
   ]
  },
  {
   "cell_type": "code",
   "execution_count": 24,
   "metadata": {},
   "outputs": [],
   "source": [
    "class NewsgroupsEntry(DatasetEntry):\n",
    "\n",
    "    def __init__(self, group_id: int, entry_path: Path):\n",
    "        try:\n",
    "            text = entry_path.read_text(errors=\"ignore\")\n",
    "        except UnicodeDecodeError as e:\n",
    "            print(entry_path)\n",
    "            raise e\n",
    "        end_of_line1 = text.find(\"\\n\")\n",
    "        end_of_line2 = text.find(\"\\n\", end_of_line1 + 1)\n",
    "        line1 = text[:end_of_line1]\n",
    "        line2 = text[end_of_line1 + 1: end_of_line2]\n",
    "\n",
    "        super(NewsgroupsEntry, self).__init__(f\"{group_id}_{entry_path.name}\")\n",
    "\n",
    "        self.path = entry_path\n",
    "        self.group = entry_path.parent.name\n",
    "\n",
    "        if line1.startswith(\"From: \"):\n",
    "            self.from_ = line1[6:]\n",
    "            assert line2.startswith(\"Subject: \")\n",
    "            self.subject = line2[9:]\n",
    "        elif line1.startswith(\"Subject: \"):\n",
    "            self.subject = line1[9:]\n",
    "            assert line2.startswith(\"From: \")\n",
    "            self.from_ = line2[6:]\n",
    "        else:\n",
    "            assert False, f\"From/Subject not found in {entry_path}\"\n",
    "\n",
    "        self.text = text[end_of_line2:].strip()\n",
    "\n",
    "    @property\n",
    "    def raw_text(self):\n",
    "        return self.path.read_text(errors=\"ignore\")\n",
    "\n",
    "\n",
    "class NewsgroupsParser(DatasetParser):\n",
    "    \"\"\"Parser for the 20 Newsgroups dataset\"\"\"\n",
    "\n",
    "    def __init__(self):\n",
    "        super(NewsgroupsParser, self).__init__(\n",
    "            data=self.root / \"20newsgroups-18828\",\n",
    "            count_vzer=CountVectorizer(\n",
    "                input=\"filename\",\n",
    "                decode_error=\"ignore\",\n",
    "                stop_words=\"english\"\n",
    "            ),\n",
    "            total=18828\n",
    "        )\n",
    "\n",
    "        self.entries: list[NewsgroupsEntry] = []\n",
    "\n",
    "        for group_id, folder in enumerate(self.data.iterdir()):\n",
    "            for file in folder.iterdir():\n",
    "                self.entries.append(NewsgroupsEntry(group_id, file))\n",
    "\n",
    "        assert len(self.entries) == self.total\n",
    "\n",
    "    def __iter__(self) -> Iterator[NewsgroupsEntry]:\n",
    "        return iter(self.entries)\\\n",
    "\n",
    "\n",
    "    def fit_transform(self):\n",
    "        return self.count_vzer.fit_transform(\n",
    "            tuple(str(entry.path) for entry in self)\n",
    "        )"
   ]
  },
  {
   "cell_type": "code",
   "execution_count": 25,
   "metadata": {},
   "outputs": [],
   "source": [
    "parser = NewsgroupsParser()"
   ]
  },
  {
   "cell_type": "code",
   "execution_count": 46,
   "metadata": {},
   "outputs": [],
   "source": [
    "entries = parser.entries\n",
    "shuffle(entries)\n",
    "\n",
    "sentences = np.array([(entry.id, entry.group) for entry in entries])\n",
    "groups = set([sentence[1] for sentence in sentences])\n",
    "groups_dict = {label: i for i, label in enumerate(groups)}"
   ]
  },
  {
   "cell_type": "code",
   "execution_count": 47,
   "metadata": {},
   "outputs": [
    {
     "data": {
      "text/plain": [
       "18828"
      ]
     },
     "execution_count": 47,
     "metadata": {},
     "output_type": "execute_result"
    }
   ],
   "source": [
    "# Vectorize input\n",
    "X = np.array([doc2vec.dv[sentence[0]] for sentence in sentences])\n",
    "y = np.array([groups_dict[sentence[1]] for sentence in sentences])\n",
    "\n",
    "len(sentences)"
   ]
  },
  {
   "cell_type": "code",
   "execution_count": 48,
   "metadata": {},
   "outputs": [
    {
     "data": {
      "text/plain": [
       "((15062, 100), (15062,))"
      ]
     },
     "execution_count": 48,
     "metadata": {},
     "output_type": "execute_result"
    }
   ],
   "source": [
    "X_train, X_test, y_train, y_test = train_test_split(X, y, test_size=0.2)\n",
    "X_train.shape, y_train.shape"
   ]
  },
  {
   "cell_type": "code",
   "execution_count": 55,
   "metadata": {},
   "outputs": [
    {
     "ename": "TypeError",
     "evalue": "MultinomialNB.__init__() got an unexpected keyword argument 'random_state'",
     "output_type": "error",
     "traceback": [
      "\u001b[0;31m---------------------------------------------------------------------------\u001b[0m",
      "\u001b[0;31mTypeError\u001b[0m                                 Traceback (most recent call last)",
      "\u001b[1;32m/home/samueldsr/Desktop/github/gologle/gologle/newsgroups_model.ipynb Cell 8'\u001b[0m in \u001b[0;36m<cell line: 1>\u001b[0;34m()\u001b[0m\n\u001b[0;32m----> <a href='vscode-notebook-cell:/home/samueldsr/Desktop/github/gologle/gologle/newsgroups_model.ipynb#ch0000010?line=0'>1</a>\u001b[0m clf \u001b[39m=\u001b[39m MultinomialNB(random_state\u001b[39m=\u001b[39;49m\u001b[39m47\u001b[39;49m)\n\u001b[1;32m      <a href='vscode-notebook-cell:/home/samueldsr/Desktop/github/gologle/gologle/newsgroups_model.ipynb#ch0000010?line=1'>2</a>\u001b[0m clf\u001b[39m.\u001b[39mfit(X_train, y_train)\n",
      "\u001b[0;31mTypeError\u001b[0m: MultinomialNB.__init__() got an unexpected keyword argument 'random_state'"
     ]
    }
   ],
   "source": [
    "clf = MultinomialNB(random_state=47)\n",
    "clf.fit(X_train, y_train)"
   ]
  },
  {
   "cell_type": "code",
   "execution_count": 53,
   "metadata": {},
   "outputs": [],
   "source": [
    "y_pred = clf.predict(X_test)"
   ]
  },
  {
   "cell_type": "code",
   "execution_count": 54,
   "metadata": {},
   "outputs": [
    {
     "name": "stdout",
     "output_type": "stream",
     "text": [
      "              precision    recall  f1-score   support\n",
      "\n",
      "           0       0.24      0.26      0.25       192\n",
      "           1       0.17      0.16      0.16       202\n",
      "           2       0.19      0.21      0.20       184\n",
      "           3       0.12      0.12      0.12       164\n",
      "           4       0.30      0.29      0.30       194\n",
      "           5       0.24      0.26      0.25       193\n",
      "           6       0.13      0.14      0.13       180\n",
      "           7       0.27      0.27      0.27       193\n",
      "           8       0.18      0.17      0.17       202\n",
      "           9       0.11      0.10      0.10       197\n",
      "          10       0.19      0.21      0.20       185\n",
      "          11       0.32      0.30      0.31       213\n",
      "          12       0.28      0.23      0.25       209\n",
      "          13       0.13      0.15      0.14       187\n",
      "          14       0.14      0.15      0.14       124\n",
      "          15       0.11      0.10      0.11       162\n",
      "          16       0.23      0.26      0.24       194\n",
      "          17       0.28      0.24      0.26       185\n",
      "          18       0.20      0.22      0.21       189\n",
      "          19       0.29      0.27      0.28       217\n",
      "\n",
      "    accuracy                           0.21      3766\n",
      "   macro avg       0.21      0.20      0.20      3766\n",
      "weighted avg       0.21      0.21      0.21      3766\n",
      "\n"
     ]
    }
   ],
   "source": [
    "report = classification_report(y_test, y_pred, zero_division=0)\n",
    "matrix = confusion_matrix(y_test, y_pred)\n",
    "print(report)"
   ]
  },
  {
   "cell_type": "code",
   "execution_count": 3,
   "metadata": {},
   "outputs": [
    {
     "ename": "NameError",
     "evalue": "name 'clf' is not defined",
     "output_type": "error",
     "traceback": [
      "\u001b[0;31m---------------------------------------------------------------------------\u001b[0m",
      "\u001b[0;31mNameError\u001b[0m                                 Traceback (most recent call last)",
      "\u001b[1;32m/home/samueldsr/Desktop/github/gologle/gologle/newsgroups_model.ipynb Cell 14'\u001b[0m in \u001b[0;36m<cell line: 3>\u001b[0;34m()\u001b[0m\n\u001b[1;32m      <a href='vscode-notebook-cell:/home/samueldsr/Desktop/github/gologle/gologle/newsgroups_model.ipynb#ch0000013?line=0'>1</a>\u001b[0m \u001b[39m# Save model\u001b[39;00m\n\u001b[0;32m----> <a href='vscode-notebook-cell:/home/samueldsr/Desktop/github/gologle/gologle/newsgroups_model.ipynb#ch0000013?line=2'>3</a>\u001b[0m pickle\u001b[39m.\u001b[39mdump(clf, \u001b[39mopen\u001b[39m(\u001b[39m'\u001b[39m\u001b[39mnewsgroups_clf.model\u001b[39m\u001b[39m'\u001b[39m, \u001b[39m'\u001b[39m\u001b[39mwb\u001b[39m\u001b[39m'\u001b[39m))\n",
      "\u001b[0;31mNameError\u001b[0m: name 'clf' is not defined"
     ]
    }
   ],
   "source": [
    "# Save model\n",
    "\n",
    "pickle.dump(clf, open('newsgroups_clf.model', 'wb'))"
   ]
  },
  {
   "cell_type": "code",
   "execution_count": 4,
   "metadata": {},
   "outputs": [],
   "source": [
    "# For loading model\n",
    "loaded_clf = pickle.load(open('newsgroups_clf.model', 'rb'))"
   ]
  },
  {
   "cell_type": "code",
   "execution_count": 5,
   "metadata": {},
   "outputs": [
    {
     "ename": "NameError",
     "evalue": "name 'X_test' is not defined",
     "output_type": "error",
     "traceback": [
      "\u001b[0;31m---------------------------------------------------------------------------\u001b[0m",
      "\u001b[0;31mNameError\u001b[0m                                 Traceback (most recent call last)",
      "\u001b[1;32m/home/samueldsr/Desktop/github/gologle/gologle/newsgroups_model.ipynb Cell 16'\u001b[0m in \u001b[0;36m<cell line: 1>\u001b[0;34m()\u001b[0m\n\u001b[0;32m----> <a href='vscode-notebook-cell:/home/samueldsr/Desktop/github/gologle/gologle/newsgroups_model.ipynb#ch0000015?line=0'>1</a>\u001b[0m loaded_clf\u001b[39m.\u001b[39mpredict(X_test)\n",
      "\u001b[0;31mNameError\u001b[0m: name 'X_test' is not defined"
     ]
    }
   ],
   "source": [
    "loaded_clf.predict(X_test)"
   ]
  }
 ],
 "metadata": {
  "interpreter": {
   "hash": "e7370f93d1d0cde622a1f8e1c04877d8463912d04d973331ad4851f04de6915a"
  },
  "kernelspec": {
   "display_name": "Python 3.10.4 64-bit",
   "language": "python",
   "name": "python3"
  },
  "language_info": {
   "codemirror_mode": {
    "name": "ipython",
    "version": 3
   },
   "file_extension": ".py",
   "mimetype": "text/x-python",
   "name": "python",
   "nbconvert_exporter": "python",
   "pygments_lexer": "ipython3",
   "version": "3.10.4"
  },
  "orig_nbformat": 4
 },
 "nbformat": 4,
 "nbformat_minor": 2
}

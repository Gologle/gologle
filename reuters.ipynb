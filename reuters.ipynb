{
 "cells": [
  {
   "cell_type": "code",
   "execution_count": 16,
   "metadata": {},
   "outputs": [],
   "source": [
    "import numpy as np\n",
    "from sklearn.multiclass import OneVsRestClassifier\n",
    "from sklearn.svm import SVC\n",
    "from sklearn.model_selection import train_test_split\n",
    "from sklearn.metrics import classification_report, f1_score\n",
    "from sklearn.model_selection import GridSearchCV, cross_val_score, cross_validate\n",
    "import pickle\n",
    "\n",
    "from src.parsers import NewsgroupsParser, ReutersParser\n",
    "from src.engines.doc2vec import Doc2VecModel"
   ]
  },
  {
   "cell_type": "code",
   "execution_count": 6,
   "metadata": {},
   "outputs": [],
   "source": [
    "REUTERS = ReutersParser()"
   ]
  },
  {
   "cell_type": "code",
   "execution_count": 7,
   "metadata": {},
   "outputs": [],
   "source": [
    "model = Doc2VecModel(dataset=REUTERS, use_predictor=False)"
   ]
  },
  {
   "cell_type": "code",
   "execution_count": 8,
   "metadata": {},
   "outputs": [],
   "source": [
    "labels = []\n",
    "\n",
    "for entry in model.dataset.entries:\n",
    "    for label in entry.labels:\n",
    "        if label not in labels:\n",
    "            labels.append(label)\n",
    "\n",
    "# get train and test sets\n",
    "X = np.array([vector for vector in map(\n",
    "    lambda e: model.model.dv[e.id],\n",
    "    model.dataset.entries)])\n",
    "y = np.array([\n",
    "    y_labs for y_labs in map(\n",
    "    lambda e: np.array(np.array(\n",
    "        [int(label in e.labels) for label in labels])),\n",
    "    model.dataset.entries)]\n",
    ")\n",
    "X_train, X_test, y_train, y_test = train_test_split(X, y, test_size=0.2)\n"
   ]
  },
  {
   "cell_type": "code",
   "execution_count": 9,
   "metadata": {},
   "outputs": [],
   "source": [
    "parameters = {\n",
    "    \"estimator__C\": [1, 4],\n",
    "    \"estimator__kernel\": [\"poly\"],\n",
    "    \"estimator__degree\":[2, 3, 4],\n",
    "}\n",
    "\n",
    "model = OneVsRestClassifier(SVC())\n",
    "\n",
    "clf = GridSearchCV(model, param_grid=parameters, scoring='f1_micro')"
   ]
  },
  {
   "cell_type": "code",
   "execution_count": 10,
   "metadata": {},
   "outputs": [
    {
     "name": "stderr",
     "output_type": "stream",
     "text": [
      "/home/samueldsr/.local/lib/python3.10/site-packages/sklearn/multiclass.py:77: UserWarning: Label not 53 is present in all training examples.\n",
      "  warnings.warn(\n",
      "/home/samueldsr/.local/lib/python3.10/site-packages/sklearn/multiclass.py:77: UserWarning: Label not 65 is present in all training examples.\n",
      "  warnings.warn(\n",
      "/home/samueldsr/.local/lib/python3.10/site-packages/sklearn/multiclass.py:77: UserWarning: Label not 53 is present in all training examples.\n",
      "  warnings.warn(\n",
      "/home/samueldsr/.local/lib/python3.10/site-packages/sklearn/multiclass.py:77: UserWarning: Label not 65 is present in all training examples.\n",
      "  warnings.warn(\n",
      "/home/samueldsr/.local/lib/python3.10/site-packages/sklearn/multiclass.py:77: UserWarning: Label not 53 is present in all training examples.\n",
      "  warnings.warn(\n",
      "/home/samueldsr/.local/lib/python3.10/site-packages/sklearn/multiclass.py:77: UserWarning: Label not 65 is present in all training examples.\n",
      "  warnings.warn(\n",
      "/home/samueldsr/.local/lib/python3.10/site-packages/sklearn/multiclass.py:77: UserWarning: Label not 53 is present in all training examples.\n",
      "  warnings.warn(\n",
      "/home/samueldsr/.local/lib/python3.10/site-packages/sklearn/multiclass.py:77: UserWarning: Label not 65 is present in all training examples.\n",
      "  warnings.warn(\n",
      "/home/samueldsr/.local/lib/python3.10/site-packages/sklearn/multiclass.py:77: UserWarning: Label not 53 is present in all training examples.\n",
      "  warnings.warn(\n",
      "/home/samueldsr/.local/lib/python3.10/site-packages/sklearn/multiclass.py:77: UserWarning: Label not 65 is present in all training examples.\n",
      "  warnings.warn(\n",
      "/home/samueldsr/.local/lib/python3.10/site-packages/sklearn/multiclass.py:77: UserWarning: Label not 53 is present in all training examples.\n",
      "  warnings.warn(\n",
      "/home/samueldsr/.local/lib/python3.10/site-packages/sklearn/multiclass.py:77: UserWarning: Label not 65 is present in all training examples.\n",
      "  warnings.warn(\n"
     ]
    },
    {
     "data": {
      "text/html": [
       "<style>#sk-container-id-1 {color: black;background-color: white;}#sk-container-id-1 pre{padding: 0;}#sk-container-id-1 div.sk-toggleable {background-color: white;}#sk-container-id-1 label.sk-toggleable__label {cursor: pointer;display: block;width: 100%;margin-bottom: 0;padding: 0.3em;box-sizing: border-box;text-align: center;}#sk-container-id-1 label.sk-toggleable__label-arrow:before {content: \"▸\";float: left;margin-right: 0.25em;color: #696969;}#sk-container-id-1 label.sk-toggleable__label-arrow:hover:before {color: black;}#sk-container-id-1 div.sk-estimator:hover label.sk-toggleable__label-arrow:before {color: black;}#sk-container-id-1 div.sk-toggleable__content {max-height: 0;max-width: 0;overflow: hidden;text-align: left;background-color: #f0f8ff;}#sk-container-id-1 div.sk-toggleable__content pre {margin: 0.2em;color: black;border-radius: 0.25em;background-color: #f0f8ff;}#sk-container-id-1 input.sk-toggleable__control:checked~div.sk-toggleable__content {max-height: 200px;max-width: 100%;overflow: auto;}#sk-container-id-1 input.sk-toggleable__control:checked~label.sk-toggleable__label-arrow:before {content: \"▾\";}#sk-container-id-1 div.sk-estimator input.sk-toggleable__control:checked~label.sk-toggleable__label {background-color: #d4ebff;}#sk-container-id-1 div.sk-label input.sk-toggleable__control:checked~label.sk-toggleable__label {background-color: #d4ebff;}#sk-container-id-1 input.sk-hidden--visually {border: 0;clip: rect(1px 1px 1px 1px);clip: rect(1px, 1px, 1px, 1px);height: 1px;margin: -1px;overflow: hidden;padding: 0;position: absolute;width: 1px;}#sk-container-id-1 div.sk-estimator {font-family: monospace;background-color: #f0f8ff;border: 1px dotted black;border-radius: 0.25em;box-sizing: border-box;margin-bottom: 0.5em;}#sk-container-id-1 div.sk-estimator:hover {background-color: #d4ebff;}#sk-container-id-1 div.sk-parallel-item::after {content: \"\";width: 100%;border-bottom: 1px solid gray;flex-grow: 1;}#sk-container-id-1 div.sk-label:hover label.sk-toggleable__label {background-color: #d4ebff;}#sk-container-id-1 div.sk-serial::before {content: \"\";position: absolute;border-left: 1px solid gray;box-sizing: border-box;top: 0;bottom: 0;left: 50%;z-index: 0;}#sk-container-id-1 div.sk-serial {display: flex;flex-direction: column;align-items: center;background-color: white;padding-right: 0.2em;padding-left: 0.2em;position: relative;}#sk-container-id-1 div.sk-item {position: relative;z-index: 1;}#sk-container-id-1 div.sk-parallel {display: flex;align-items: stretch;justify-content: center;background-color: white;position: relative;}#sk-container-id-1 div.sk-item::before, #sk-container-id-1 div.sk-parallel-item::before {content: \"\";position: absolute;border-left: 1px solid gray;box-sizing: border-box;top: 0;bottom: 0;left: 50%;z-index: -1;}#sk-container-id-1 div.sk-parallel-item {display: flex;flex-direction: column;z-index: 1;position: relative;background-color: white;}#sk-container-id-1 div.sk-parallel-item:first-child::after {align-self: flex-end;width: 50%;}#sk-container-id-1 div.sk-parallel-item:last-child::after {align-self: flex-start;width: 50%;}#sk-container-id-1 div.sk-parallel-item:only-child::after {width: 0;}#sk-container-id-1 div.sk-dashed-wrapped {border: 1px dashed gray;margin: 0 0.4em 0.5em 0.4em;box-sizing: border-box;padding-bottom: 0.4em;background-color: white;}#sk-container-id-1 div.sk-label label {font-family: monospace;font-weight: bold;display: inline-block;line-height: 1.2em;}#sk-container-id-1 div.sk-label-container {text-align: center;}#sk-container-id-1 div.sk-container {/* jupyter's `normalize.less` sets `[hidden] { display: none; }` but bootstrap.min.css set `[hidden] { display: none !important; }` so we also need the `!important` here to be able to override the default hidden behavior on the sphinx rendered scikit-learn.org. See: https://github.com/scikit-learn/scikit-learn/issues/21755 */display: inline-block !important;position: relative;}#sk-container-id-1 div.sk-text-repr-fallback {display: none;}</style><div id=\"sk-container-id-1\" class=\"sk-top-container\"><div class=\"sk-text-repr-fallback\"><pre>GridSearchCV(estimator=OneVsRestClassifier(estimator=SVC()),\n",
       "             param_grid={&#x27;estimator__C&#x27;: [1, 4], &#x27;estimator__degree&#x27;: [2, 3, 4],\n",
       "                         &#x27;estimator__kernel&#x27;: [&#x27;poly&#x27;]},\n",
       "             scoring=&#x27;f1_micro&#x27;)</pre><b>In a Jupyter environment, please rerun this cell to show the HTML representation or trust the notebook. <br />On GitHub, the HTML representation is unable to render, please try loading this page with nbviewer.org.</b></div><div class=\"sk-container\" hidden><div class=\"sk-item sk-dashed-wrapped\"><div class=\"sk-label-container\"><div class=\"sk-label sk-toggleable\"><input class=\"sk-toggleable__control sk-hidden--visually\" id=\"sk-estimator-id-1\" type=\"checkbox\" ><label for=\"sk-estimator-id-1\" class=\"sk-toggleable__label sk-toggleable__label-arrow\">GridSearchCV</label><div class=\"sk-toggleable__content\"><pre>GridSearchCV(estimator=OneVsRestClassifier(estimator=SVC()),\n",
       "             param_grid={&#x27;estimator__C&#x27;: [1, 4], &#x27;estimator__degree&#x27;: [2, 3, 4],\n",
       "                         &#x27;estimator__kernel&#x27;: [&#x27;poly&#x27;]},\n",
       "             scoring=&#x27;f1_micro&#x27;)</pre></div></div></div><div class=\"sk-parallel\"><div class=\"sk-parallel-item\"><div class=\"sk-item\"><div class=\"sk-label-container\"><div class=\"sk-label sk-toggleable\"><input class=\"sk-toggleable__control sk-hidden--visually\" id=\"sk-estimator-id-2\" type=\"checkbox\" ><label for=\"sk-estimator-id-2\" class=\"sk-toggleable__label sk-toggleable__label-arrow\">estimator: OneVsRestClassifier</label><div class=\"sk-toggleable__content\"><pre>OneVsRestClassifier(estimator=SVC())</pre></div></div></div><div class=\"sk-serial\"><div class=\"sk-item sk-dashed-wrapped\"><div class=\"sk-parallel\"><div class=\"sk-parallel-item\"><div class=\"sk-item\"><div class=\"sk-label-container\"><div class=\"sk-label sk-toggleable\"><input class=\"sk-toggleable__control sk-hidden--visually\" id=\"sk-estimator-id-3\" type=\"checkbox\" ><label for=\"sk-estimator-id-3\" class=\"sk-toggleable__label sk-toggleable__label-arrow\">estimator: SVC</label><div class=\"sk-toggleable__content\"><pre>SVC()</pre></div></div></div><div class=\"sk-serial\"><div class=\"sk-item\"><div class=\"sk-estimator sk-toggleable\"><input class=\"sk-toggleable__control sk-hidden--visually\" id=\"sk-estimator-id-4\" type=\"checkbox\" ><label for=\"sk-estimator-id-4\" class=\"sk-toggleable__label sk-toggleable__label-arrow\">SVC</label><div class=\"sk-toggleable__content\"><pre>SVC()</pre></div></div></div></div></div></div></div></div></div></div></div></div></div></div></div>"
      ],
      "text/plain": [
       "GridSearchCV(estimator=OneVsRestClassifier(estimator=SVC()),\n",
       "             param_grid={'estimator__C': [1, 4], 'estimator__degree': [2, 3, 4],\n",
       "                         'estimator__kernel': ['poly']},\n",
       "             scoring='f1_micro')"
      ]
     },
     "execution_count": 10,
     "metadata": {},
     "output_type": "execute_result"
    }
   ],
   "source": [
    "clf.fit(X_train, y_train)"
   ]
  },
  {
   "cell_type": "code",
   "execution_count": 11,
   "metadata": {},
   "outputs": [
    {
     "name": "stdout",
     "output_type": "stream",
     "text": [
      "{'estimator__C': 4, 'estimator__degree': 2, 'estimator__kernel': 'poly'}\n",
      "0.779011046468671\n"
     ]
    }
   ],
   "source": [
    "print(clf.best_params_)\n",
    "print(clf.best_score_)"
   ]
  },
  {
   "cell_type": "code",
   "execution_count": 12,
   "metadata": {},
   "outputs": [
    {
     "data": {
      "text/html": [
       "<style>#sk-container-id-2 {color: black;background-color: white;}#sk-container-id-2 pre{padding: 0;}#sk-container-id-2 div.sk-toggleable {background-color: white;}#sk-container-id-2 label.sk-toggleable__label {cursor: pointer;display: block;width: 100%;margin-bottom: 0;padding: 0.3em;box-sizing: border-box;text-align: center;}#sk-container-id-2 label.sk-toggleable__label-arrow:before {content: \"▸\";float: left;margin-right: 0.25em;color: #696969;}#sk-container-id-2 label.sk-toggleable__label-arrow:hover:before {color: black;}#sk-container-id-2 div.sk-estimator:hover label.sk-toggleable__label-arrow:before {color: black;}#sk-container-id-2 div.sk-toggleable__content {max-height: 0;max-width: 0;overflow: hidden;text-align: left;background-color: #f0f8ff;}#sk-container-id-2 div.sk-toggleable__content pre {margin: 0.2em;color: black;border-radius: 0.25em;background-color: #f0f8ff;}#sk-container-id-2 input.sk-toggleable__control:checked~div.sk-toggleable__content {max-height: 200px;max-width: 100%;overflow: auto;}#sk-container-id-2 input.sk-toggleable__control:checked~label.sk-toggleable__label-arrow:before {content: \"▾\";}#sk-container-id-2 div.sk-estimator input.sk-toggleable__control:checked~label.sk-toggleable__label {background-color: #d4ebff;}#sk-container-id-2 div.sk-label input.sk-toggleable__control:checked~label.sk-toggleable__label {background-color: #d4ebff;}#sk-container-id-2 input.sk-hidden--visually {border: 0;clip: rect(1px 1px 1px 1px);clip: rect(1px, 1px, 1px, 1px);height: 1px;margin: -1px;overflow: hidden;padding: 0;position: absolute;width: 1px;}#sk-container-id-2 div.sk-estimator {font-family: monospace;background-color: #f0f8ff;border: 1px dotted black;border-radius: 0.25em;box-sizing: border-box;margin-bottom: 0.5em;}#sk-container-id-2 div.sk-estimator:hover {background-color: #d4ebff;}#sk-container-id-2 div.sk-parallel-item::after {content: \"\";width: 100%;border-bottom: 1px solid gray;flex-grow: 1;}#sk-container-id-2 div.sk-label:hover label.sk-toggleable__label {background-color: #d4ebff;}#sk-container-id-2 div.sk-serial::before {content: \"\";position: absolute;border-left: 1px solid gray;box-sizing: border-box;top: 0;bottom: 0;left: 50%;z-index: 0;}#sk-container-id-2 div.sk-serial {display: flex;flex-direction: column;align-items: center;background-color: white;padding-right: 0.2em;padding-left: 0.2em;position: relative;}#sk-container-id-2 div.sk-item {position: relative;z-index: 1;}#sk-container-id-2 div.sk-parallel {display: flex;align-items: stretch;justify-content: center;background-color: white;position: relative;}#sk-container-id-2 div.sk-item::before, #sk-container-id-2 div.sk-parallel-item::before {content: \"\";position: absolute;border-left: 1px solid gray;box-sizing: border-box;top: 0;bottom: 0;left: 50%;z-index: -1;}#sk-container-id-2 div.sk-parallel-item {display: flex;flex-direction: column;z-index: 1;position: relative;background-color: white;}#sk-container-id-2 div.sk-parallel-item:first-child::after {align-self: flex-end;width: 50%;}#sk-container-id-2 div.sk-parallel-item:last-child::after {align-self: flex-start;width: 50%;}#sk-container-id-2 div.sk-parallel-item:only-child::after {width: 0;}#sk-container-id-2 div.sk-dashed-wrapped {border: 1px dashed gray;margin: 0 0.4em 0.5em 0.4em;box-sizing: border-box;padding-bottom: 0.4em;background-color: white;}#sk-container-id-2 div.sk-label label {font-family: monospace;font-weight: bold;display: inline-block;line-height: 1.2em;}#sk-container-id-2 div.sk-label-container {text-align: center;}#sk-container-id-2 div.sk-container {/* jupyter's `normalize.less` sets `[hidden] { display: none; }` but bootstrap.min.css set `[hidden] { display: none !important; }` so we also need the `!important` here to be able to override the default hidden behavior on the sphinx rendered scikit-learn.org. See: https://github.com/scikit-learn/scikit-learn/issues/21755 */display: inline-block !important;position: relative;}#sk-container-id-2 div.sk-text-repr-fallback {display: none;}</style><div id=\"sk-container-id-2\" class=\"sk-top-container\"><div class=\"sk-text-repr-fallback\"><pre>OneVsRestClassifier(estimator=SVC(C=4, kernel=&#x27;poly&#x27;))</pre><b>In a Jupyter environment, please rerun this cell to show the HTML representation or trust the notebook. <br />On GitHub, the HTML representation is unable to render, please try loading this page with nbviewer.org.</b></div><div class=\"sk-container\" hidden><div class=\"sk-item sk-dashed-wrapped\"><div class=\"sk-label-container\"><div class=\"sk-label sk-toggleable\"><input class=\"sk-toggleable__control sk-hidden--visually\" id=\"sk-estimator-id-5\" type=\"checkbox\" ><label for=\"sk-estimator-id-5\" class=\"sk-toggleable__label sk-toggleable__label-arrow\">OneVsRestClassifier</label><div class=\"sk-toggleable__content\"><pre>OneVsRestClassifier(estimator=SVC(C=4, kernel=&#x27;poly&#x27;))</pre></div></div></div><div class=\"sk-parallel\"><div class=\"sk-parallel-item\"><div class=\"sk-item\"><div class=\"sk-label-container\"><div class=\"sk-label sk-toggleable\"><input class=\"sk-toggleable__control sk-hidden--visually\" id=\"sk-estimator-id-6\" type=\"checkbox\" ><label for=\"sk-estimator-id-6\" class=\"sk-toggleable__label sk-toggleable__label-arrow\">estimator: SVC</label><div class=\"sk-toggleable__content\"><pre>SVC(C=4, kernel=&#x27;poly&#x27;)</pre></div></div></div><div class=\"sk-serial\"><div class=\"sk-item\"><div class=\"sk-estimator sk-toggleable\"><input class=\"sk-toggleable__control sk-hidden--visually\" id=\"sk-estimator-id-7\" type=\"checkbox\" ><label for=\"sk-estimator-id-7\" class=\"sk-toggleable__label sk-toggleable__label-arrow\">SVC</label><div class=\"sk-toggleable__content\"><pre>SVC(C=4, kernel=&#x27;poly&#x27;)</pre></div></div></div></div></div></div></div></div></div></div>"
      ],
      "text/plain": [
       "OneVsRestClassifier(estimator=SVC(C=4, kernel='poly'))"
      ]
     },
     "execution_count": 12,
     "metadata": {},
     "output_type": "execute_result"
    }
   ],
   "source": [
    "clf = OneVsRestClassifier(SVC(C=4, degree=3, kernel='poly'))\n",
    "clf.fit(X_train, y_train)"
   ]
  },
  {
   "cell_type": "code",
   "execution_count": 13,
   "metadata": {},
   "outputs": [
    {
     "name": "stdout",
     "output_type": "stream",
     "text": [
      "              precision    recall  f1-score   support\n",
      "\n",
      "           0       0.78      0.69      0.73        85\n",
      "           1       0.83      0.75      0.79       118\n",
      "           2       0.84      0.71      0.77       108\n",
      "           3       0.83      0.24      0.37        21\n",
      "           4       0.79      0.55      0.65        49\n",
      "           5       0.00      0.00      0.00         9\n",
      "           6       0.89      0.62      0.73        13\n",
      "           7       0.79      0.52      0.62        29\n",
      "           8       0.50      0.08      0.14        12\n",
      "           9       0.67      0.20      0.31        10\n",
      "          10       0.81      0.48      0.60        27\n",
      "          11       0.83      0.67      0.74        60\n",
      "          12       0.90      0.73      0.81        26\n",
      "          13       1.00      0.50      0.67         4\n",
      "          14       0.70      0.68      0.69        57\n",
      "          15       0.93      0.89      0.91        28\n",
      "          16       0.90      0.89      0.90       471\n",
      "          17       0.78      0.73      0.75        94\n",
      "          18       0.78      0.77      0.78       142\n",
      "          19       0.67      0.50      0.57         8\n",
      "          20       0.62      0.42      0.50        12\n",
      "          21       0.75      0.69      0.72        13\n",
      "          22       0.60      0.50      0.55        18\n",
      "          23       0.61      0.42      0.50        33\n",
      "          24       0.79      0.55      0.65        20\n",
      "          25       0.94      0.97      0.96       777\n",
      "          26       0.75      0.43      0.55        21\n",
      "          27       1.00      0.44      0.62         9\n",
      "          28       1.00      0.22      0.36         9\n",
      "          29       0.89      0.62      0.73        13\n",
      "          30       1.00      0.09      0.17        11\n",
      "          31       0.69      0.65      0.67        17\n",
      "          32       0.84      0.64      0.72        33\n",
      "          33       1.00      0.50      0.67         2\n",
      "          34       0.67      0.58      0.62        38\n",
      "          35       0.44      0.29      0.35        14\n",
      "          36       0.00      1.00      0.00         0\n",
      "          37       1.00      0.00      0.00         2\n",
      "          38       0.50      0.33      0.40         3\n",
      "          39       0.33      0.25      0.29         4\n",
      "          40       1.00      0.00      0.00         3\n",
      "          41       0.00      0.00      0.00         6\n",
      "          42       0.91      0.67      0.77        15\n",
      "          43       1.00      0.12      0.22         8\n",
      "          44       0.44      0.22      0.30        18\n",
      "          45       0.89      0.62      0.74        40\n",
      "          46       0.00      0.00      0.00        10\n",
      "          47       1.00      0.00      0.00         1\n",
      "          48       0.57      0.29      0.38        14\n",
      "          49       1.00      0.00      0.00         1\n",
      "          50       0.00      0.00      0.00         3\n",
      "          51       1.00      0.30      0.46        10\n",
      "          52       0.80      0.62      0.70        13\n",
      "          53       1.00      0.00      0.00         1\n",
      "          54       0.00      1.00      0.00         0\n",
      "          55       0.33      0.17      0.22         6\n",
      "          56       1.00      0.00      0.00         3\n",
      "          57       0.00      1.00      0.00         0\n",
      "          58       0.00      0.00      0.00         3\n",
      "          59       1.00      0.29      0.44         7\n",
      "          60       0.40      0.25      0.31         8\n",
      "          61       1.00      0.33      0.50         3\n",
      "          62       1.00      0.25      0.40         4\n",
      "          63       0.20      0.20      0.20         5\n",
      "          64       1.00      0.00      0.00         3\n",
      "          65       1.00      0.00      0.00         1\n",
      "          66       0.50      0.50      0.50         2\n",
      "          67       1.00      0.71      0.83         7\n",
      "          68       1.00      0.20      0.33         5\n",
      "          69       1.00      0.25      0.40         4\n",
      "          70       0.67      0.29      0.40         7\n",
      "          71       1.00      1.00      1.00         0\n",
      "          72       1.00      0.43      0.60         7\n",
      "          73       1.00      0.00      0.00         1\n",
      "          74       1.00      0.00      0.00         2\n",
      "          75       1.00      1.00      1.00         0\n",
      "          76       1.00      1.00      1.00         0\n",
      "          77       1.00      0.25      0.40         4\n",
      "          78       1.00      0.00      0.00         2\n",
      "          79       0.00      1.00      0.00         0\n",
      "          80       1.00      1.00      1.00         1\n",
      "          81       1.00      0.00      0.00         1\n",
      "          82       1.00      0.60      0.75         5\n",
      "          83       1.00      0.00      0.00         1\n",
      "          84       1.00      1.00      1.00         0\n",
      "          85       1.00      1.00      1.00         0\n",
      "          86       1.00      0.00      0.00         2\n",
      "          87       1.00      0.00      0.00         1\n",
      "          88       1.00      1.00      1.00         0\n",
      "          89       1.00      1.00      1.00         0\n",
      "\n",
      "   micro avg       0.86      0.75      0.80      2658\n",
      "   macro avg       0.76      0.44      0.45      2658\n",
      "weighted avg       0.84      0.75      0.78      2658\n",
      " samples avg       0.91      0.80      0.79      2658\n",
      "\n"
     ]
    }
   ],
   "source": [
    "y_pred = clf.predict(X_test)\n",
    "\n",
    "report = classification_report(y_test, y_pred, zero_division=1)\n",
    "print(report)"
   ]
  },
  {
   "cell_type": "code",
   "execution_count": 14,
   "metadata": {},
   "outputs": [
    {
     "data": {
      "text/plain": [
       "{'fit_time': array([18.74481845, 17.31552124, 22.86772895, 19.00322938, 27.11241102]),\n",
       " 'score_time': array([1.97315073, 2.51908994, 1.91691756, 2.05015612, 2.38943958]),\n",
       " 'test_score': array([0.74845402, 0.7727366 , 0.75914149, 0.79130435, 0.79537477])}"
      ]
     },
     "execution_count": 14,
     "metadata": {},
     "output_type": "execute_result"
    }
   ],
   "source": [
    "score = cross_validate(clf, X, y, cv=5, scoring='f1_micro')\n",
    "score"
   ]
  },
  {
   "cell_type": "code",
   "execution_count": 15,
   "metadata": {},
   "outputs": [
    {
     "data": {
      "text/plain": [
       "0.7734022467820375"
      ]
     },
     "execution_count": 15,
     "metadata": {},
     "output_type": "execute_result"
    }
   ],
   "source": [
    "score['test_score'].mean()"
   ]
  },
  {
   "cell_type": "code",
   "execution_count": 23,
   "metadata": {},
   "outputs": [],
   "source": [
    "from sklearn.metrics import confusion_matrix, multilabel_confusion_matrix\n",
    "import matplotlib.pyplot as plt"
   ]
  },
  {
   "cell_type": "code",
   "execution_count": 60,
   "metadata": {},
   "outputs": [
    {
     "data": {
      "image/png": "[encoded data removed]",
      "text/plain": [
       "<Figure size 1152x1152 with 16 Axes>"
      ]
     },
     "metadata": {
      "needs_background": "light"
     },
     "output_type": "display_data"
    }
   ],
   "source": [
    "matrix = multilabel_confusion_matrix(y_test, y_pred)\n",
    "\n",
    "fig, axs = plt.subplots(4, 4, figsize=(16, 16))\n",
    "\n",
    "n = len(axs)\n",
    "m = len(axs[0])\n",
    "for i in range(n):\n",
    "    for j in range(m):\n",
    "        axs[i, j].matshow(matrix[i * n + j])"
   ]
  }
 ],
 "metadata": {
  "interpreter": {
   "hash": "e7370f93d1d0cde622a1f8e1c04877d8463912d04d973331ad4851f04de6915a"
  },
  "kernelspec": {
   "display_name": "Python 3.10.4 64-bit",
   "language": "python",
   "name": "python3"
  },
  "language_info": {
   "codemirror_mode": {
    "name": "ipython",
    "version": 3
   },
   "file_extension": ".py",
   "mimetype": "text/x-python",
   "name": "python",
   "nbconvert_exporter": "python",
   "pygments_lexer": "ipython3",
   "version": "3.10.4"
  },
  "orig_nbformat": 4
 },
 "nbformat": 4,
 "nbformat_minor": 2
}
